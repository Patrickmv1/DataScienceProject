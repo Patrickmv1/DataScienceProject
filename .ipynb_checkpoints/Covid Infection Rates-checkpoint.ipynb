{
 "cells": [
  {
   "cell_type": "code",
   "execution_count": 6,
   "id": "27c983de",
   "metadata": {},
   "outputs": [
    {
     "name": "stdout",
     "output_type": "stream",
     "text": [
      "\n",
      "Correlation Analysis Between Florda Data and Transformed Texas Data Set:\n",
      "\n",
      "Pearson Correlation\n",
      "death                 0.993680\n",
      "deathIncrease         0.517685\n",
      "positiveCasesViral    0.999636\n",
      "\n",
      "Kendall  Correlation\n",
      "death                 0.999858\n",
      "deathIncrease         0.362624\n",
      "positiveCasesViral    0.999905\n",
      "\n",
      "Spearman  Correlation\n",
      "death                 0.999998\n",
      "deathIncrease         0.498822\n",
      "positiveCasesViral    0.999999\n",
      "\n",
      "\n",
      "\n"
     ]
    }
   ],
   "source": [
    "import os\n",
    "import numpy as np\n",
    "import pandas as pd\n",
    "import matplotlib.pyplot as plt\n",
    "import math\n",
    "\n",
    "#def statistical_testing(texas_DF, florida_DF, texas_transformed_DF):\n",
    "\n",
    "\n",
    "def correlation_Analysis(texas_DF, florida_DF, texas_transformed_DF):\n",
    "    #florida_DF.corr(method ='pearson')\n",
    "    print(\"\\nCorrelation Analysis Between Florda Data and Transformed Texas Data Set:\")\n",
    "\n",
    "    print(\"\\nPearson Correlation\")\n",
    "    print(florida_DF.corrwith(texas_transformed_DF,axis=0,method ='pearson',drop=True).to_string())\n",
    "\n",
    "    print(\"\\nKendall  Correlation\")\n",
    "    print(florida_DF.corrwith(texas_transformed_DF,axis=0,method ='kendall',drop=True).to_string())\n",
    "\n",
    "    print(\"\\nSpearman  Correlation\")\n",
    "    print(florida_DF.corrwith(texas_transformed_DF,axis=0,method ='spearman',drop=True).to_string())\n",
    "\n",
    "    print(\"\\n\\n\")\n",
    "\n",
    "def plot_Data(texas_DF, florida_DF, texas_transformed_DF):\n",
    "    plt.figure()\n",
    "    plt.scatter(florida_DF, texas_transformed_DF)\n",
    "    plt.show()\n",
    "\n",
    "def transform_data(df, size):\n",
    "    #Transforms data to mathc population size\n",
    "    df['death'] = df['death'].transform(lambda x: round(x * size, 0))\n",
    "    df['deathIncrease'] = df['deathIncrease'].transform(lambda x: round(x * size, 0))\n",
    "    df['positiveCasesViral'] = df['positiveCasesViral'].transform(lambda x: round(x * size, 0))\n",
    "    return df\n",
    "\n",
    "if __name__ == '__main__':\n",
    "    florida_Pop = 2148000\n",
    "    texas_Pop = 2900000\n",
    "    texas_Data = pd.read_csv((\"texas-history.csv\"),\n",
    "                        usecols=['date', 'state', 'death', 'deathIncrease', 'positiveCasesViral'])\n",
    "    florida_Data = pd.read_csv((\"florida-history.csv\"),\n",
    "                        usecols=['date', 'state', 'death', 'deathIncrease', 'positiveCasesViral'])\n",
    "    texas_DF = pd.DataFrame(texas_Data, columns =['date', 'state', 'death', 'deathIncrease', 'positiveCasesViral'])\n",
    "    florida_DF = pd.DataFrame(florida_Data, columns =['date', 'state', 'death', 'deathIncrease', 'positiveCasesViral'])\n",
    "    texas_DF = texas_DF.dropna()\n",
    "    florida_DF = florida_DF = florida_DF.dropna()\n",
    "    #print(texas_DF.head())\n",
    "    size = florida_Pop / texas_Pop\n",
    "    texas_transformed_DF = transform_data(texas_DF, size)\n",
    "    #plot_Data(texas_DF, florida_DF, texas_transformed_DF)\n",
    "    correlation_Analysis(texas_DF, florida_DF, texas_transformed_DF)\n",
    "    #statistical_testing(texas_DF, florida_DF, texas_transformed_DF)\n",
    "    #print(texas_transformed_DF.head())\n",
    "    #print(florida_DF.head())"
   ]
  },
  {
   "cell_type": "code",
   "execution_count": null,
   "id": "8e50978b",
   "metadata": {},
   "outputs": [],
   "source": []
  }
 ],
 "metadata": {
  "kernelspec": {
   "display_name": "Python 3 (ipykernel)",
   "language": "python",
   "name": "python3"
  },
  "language_info": {
   "codemirror_mode": {
    "name": "ipython",
    "version": 3
   },
   "file_extension": ".py",
   "mimetype": "text/x-python",
   "name": "python",
   "nbconvert_exporter": "python",
   "pygments_lexer": "ipython3",
   "version": "3.9.7"
  }
 },
 "nbformat": 4,
 "nbformat_minor": 5
}
