{
 "cells": [
  {
   "cell_type": "code",
   "execution_count": 39,
   "id": "27c983de",
   "metadata": {},
   "outputs": [
    {
     "name": "stdout",
     "output_type": "stream",
     "text": [
      "           date state    death  deathIncrease  hospitalizedCurrently  \\\n",
      "0    2021-03-07    FL  32266.0             66                 3307.0   \n",
      "1    2021-03-06    FL  32200.0            107                 3352.0   \n",
      "2    2021-03-05    FL  32093.0            138                 3419.0   \n",
      "3    2021-03-04    FL  31955.0            126                 3566.0   \n",
      "4    2021-03-03    FL  31829.0            133                 3596.0   \n",
      "..          ...   ...      ...            ...                    ...   \n",
      "201  2020-08-18    FL   9893.0            219                 5484.0   \n",
      "202  2020-08-17    FL   9674.0             87                 5631.0   \n",
      "203  2020-08-16    FL   9587.0            107                 5690.0   \n",
      "204  2020-08-15    FL   9480.0            204                 5721.0   \n",
      "205  2020-08-14    FL   9276.0            229                 5893.0   \n",
      "\n",
      "     positiveCasesViral  positiveIncrease  \n",
      "0             1548837.0              4024  \n",
      "1             1545643.0              4587  \n",
      "2             1542400.0              5876  \n",
      "3             1538139.0              5997  \n",
      "4             1534186.0              5860  \n",
      "..                  ...               ...  \n",
      "201            568161.0              3787  \n",
      "202            564528.0              2649  \n",
      "203            561901.0              3747  \n",
      "204            558171.0              6291  \n",
      "205            552000.0              7997  \n",
      "\n",
      "[206 rows x 7 columns]\n",
      "           date state    death  deathIncrease  hospitalizedCurrently  \\\n",
      "0    2021-03-07    TX  32924.0           62.0                 3497.0   \n",
      "1    2021-03-06    TX  32862.0          173.0                 3645.0   \n",
      "2    2021-03-05    TX  32690.0          190.0                 3752.0   \n",
      "3    2021-03-04    TX  32500.0          233.0                 3898.0   \n",
      "4    2021-03-03    TX  32267.0          220.0                 4080.0   \n",
      "..          ...   ...      ...            ...                    ...   \n",
      "201  2020-08-18    TX   7592.0          160.0                 4600.0   \n",
      "202  2020-08-17    TX   7432.0           38.0                 4592.0   \n",
      "203  2020-08-16    TX   7394.0          106.0                 4642.0   \n",
      "204  2020-08-15    TX   7288.0          176.0                 4800.0   \n",
      "205  2020-08-14    TX   7112.0          232.0                 4912.0   \n",
      "\n",
      "     positiveCasesViral  positiveIncrease  \n",
      "0             1719035.0            2187.0  \n",
      "1             1717305.0            4126.0  \n",
      "2             1714094.0            5076.0  \n",
      "3             1710344.0            5946.0  \n",
      "4             1706609.0            5794.0  \n",
      "..                  ...               ...  \n",
      "201            407551.0            5394.0  \n",
      "202            402157.0            5857.0  \n",
      "203            396300.0            4595.0  \n",
      "204            391705.0            6107.0  \n",
      "205            385598.0            5198.0  \n",
      "\n",
      "[206 rows x 7 columns]\n"
     ]
    },
    {
     "data": {
      "image/png": "[encoded data removed]",
      "text/plain": [
       "<Figure size 432x288 with 1 Axes>"
      ]
     },
     "metadata": {
      "needs_background": "light"
     },
     "output_type": "display_data"
    },
    {
     "ename": "NameError",
     "evalue": "name 'bin_size' is not defined",
     "output_type": "error",
     "traceback": [
      "\u001b[0;31m---------------------------------------------------------------------------\u001b[0m",
      "\u001b[0;31mNameError\u001b[0m                                 Traceback (most recent call last)",
      "\u001b[0;32m/var/folders/q4/cqgy5qfj7_9b8t0f22123kl40000gn/T/ipykernel_4902/849610818.py\u001b[0m in \u001b[0;36m<module>\u001b[0;34m\u001b[0m\n\u001b[1;32m     81\u001b[0m     \u001b[0mprint\u001b[0m\u001b[0;34m(\u001b[0m\u001b[0mflorida_DF\u001b[0m\u001b[0;34m)\u001b[0m\u001b[0;34m\u001b[0m\u001b[0;34m\u001b[0m\u001b[0m\n\u001b[1;32m     82\u001b[0m     \u001b[0mprint\u001b[0m\u001b[0;34m(\u001b[0m\u001b[0mtexas_DF\u001b[0m\u001b[0;34m)\u001b[0m\u001b[0;34m\u001b[0m\u001b[0;34m\u001b[0m\u001b[0m\n\u001b[0;32m---> 83\u001b[0;31m     \u001b[0mplot_Data\u001b[0m\u001b[0;34m(\u001b[0m\u001b[0mtexas_DF\u001b[0m\u001b[0;34m,\u001b[0m \u001b[0mflorida_DF\u001b[0m\u001b[0;34m,\u001b[0m \u001b[0mtexas_transformed_DF\u001b[0m\u001b[0;34m)\u001b[0m\u001b[0;34m\u001b[0m\u001b[0;34m\u001b[0m\u001b[0m\n\u001b[0m\u001b[1;32m     84\u001b[0m     \u001b[0;31m#correlation_Analysis(texas_DF, florida_DF, texas_transformed_DF)\u001b[0m\u001b[0;34m\u001b[0m\u001b[0;34m\u001b[0m\u001b[0;34m\u001b[0m\u001b[0m\n\u001b[1;32m     85\u001b[0m     \u001b[0;31m#statistical_testing(texas_DF, florida_DF, texas_transformed_DF)\u001b[0m\u001b[0;34m\u001b[0m\u001b[0;34m\u001b[0m\u001b[0;34m\u001b[0m\u001b[0m\n",
      "\u001b[0;32m/var/folders/q4/cqgy5qfj7_9b8t0f22123kl40000gn/T/ipykernel_4902/849610818.py\u001b[0m in \u001b[0;36mplot_Data\u001b[0;34m(texas_DF, florida_DF, texas_transformed_DF)\u001b[0m\n\u001b[1;32m     47\u001b[0m     \u001b[0mplt\u001b[0m\u001b[0;34m.\u001b[0m\u001b[0mfigure\u001b[0m\u001b[0;34m(\u001b[0m\u001b[0;34m)\u001b[0m\u001b[0;34m\u001b[0m\u001b[0;34m\u001b[0m\u001b[0m\n\u001b[1;32m     48\u001b[0m     \u001b[0mplt\u001b[0m\u001b[0;34m.\u001b[0m\u001b[0mtitle\u001b[0m\u001b[0;34m(\u001b[0m\u001b[0;34m\"Title\"\u001b[0m\u001b[0;34m)\u001b[0m\u001b[0;34m\u001b[0m\u001b[0;34m\u001b[0m\u001b[0m\n\u001b[0;32m---> 49\u001b[0;31m     \u001b[0mplt\u001b[0m\u001b[0;34m.\u001b[0m\u001b[0mhist\u001b[0m\u001b[0;34m(\u001b[0m\u001b[0mtexas_DF\u001b[0m\u001b[0;34m.\u001b[0m\u001b[0mdeathIncrease\u001b[0m\u001b[0;34m,\u001b[0m \u001b[0mbins\u001b[0m\u001b[0;34m=\u001b[0m\u001b[0mbin_size\u001b[0m\u001b[0;34m)\u001b[0m\u001b[0;34m\u001b[0m\u001b[0;34m\u001b[0m\u001b[0m\n\u001b[0m\u001b[1;32m     50\u001b[0m     \u001b[0mplt\u001b[0m\u001b[0;34m.\u001b[0m\u001b[0mshow\u001b[0m\u001b[0;34m(\u001b[0m\u001b[0;34m)\u001b[0m\u001b[0;34m\u001b[0m\u001b[0;34m\u001b[0m\u001b[0m\n\u001b[1;32m     51\u001b[0m \u001b[0;34m\u001b[0m\u001b[0m\n",
      "\u001b[0;31mNameError\u001b[0m: name 'bin_size' is not defined"
     ]
    },
    {
     "data": {
      "image/png": "[encoded data removed]",
      "text/plain": [
       "<Figure size 432x288 with 1 Axes>"
      ]
     },
     "metadata": {
      "needs_background": "light"
     },
     "output_type": "display_data"
    }
   ],
   "source": [
    "import os\n",
    "import numpy as np\n",
    "import pandas as pd\n",
    "import matplotlib.pyplot as plt\n",
    "import math\n",
    "\n",
    "#def statistical_testing(texas_DF, florida_DF, texas_transformed_DF):\n",
    "\n",
    "\n",
    "def correlation_Analysis(texas_DF, florida_DF, texas_transformed_DF):\n",
    "    #florida_DF.corr(method ='pearson')\n",
    "    print(\"\\nCorrelation Analysis Between Florda Data and Transformed Texas Data Set:\")\n",
    "\n",
    "    print(\"\\nPearson Correlation\")\n",
    "    print(florida_DF.corrwith(texas_transformed_DF,axis=0,method ='pearson',drop=True).to_string())\n",
    "\n",
    "    print(\"\\nKendall  Correlation\")\n",
    "    print(florida_DF.corrwith(texas_transformed_DF,axis=0,method ='kendall',drop=True).to_string())\n",
    "\n",
    "    print(\"\\nSpearman  Correlation\")\n",
    "    print(florida_DF.corrwith(texas_transformed_DF,axis=0,method ='spearman',drop=True).to_string())\n",
    "\n",
    "    print(\"\\n\\n\")\n",
    "\n",
    "def plot_Data(texas_DF, florida_DF, texas_transformed_DF):\n",
    "    florida_DF['death'] = florida_DF['death'].apply(lambda x:x / 5000) \n",
    "    florida_DF['deathIncrease'] = florida_DF['deathIncrease'].apply(lambda x:x / 5000) \n",
    "    florida_DF['hospitalizedCurrently'] = florida_DF['hospitalizedCurrently'].apply(lambda x:x / 5000) \n",
    "    florida_DF['positiveCasesViral'] = florida_DF['positiveCasesViral'].apply(lambda x:x / 5000) \n",
    "    florida_DF['positiveIncrease'] = florida_DF['positiveIncrease'].apply(lambda x:x / 5000) \n",
    "\n",
    "    texas_DF['death'] = texas_DF['death'].apply(lambda x:x / 5000) \n",
    "    texas_DF['deathIncrease'] = texas_DF['deathIncrease'].apply(lambda x:x / 5000) \n",
    "    texas_DF['hospitalizedCurrently'] = texas_DF['hospitalizedCurrently'].apply(lambda x:x / 5000) \n",
    "    texas_DF['positiveCasesViral'] = texas_DF['positiveCasesViral'].apply(lambda x:x / 5000) \n",
    "    texas_DF['positiveIncrease'] = texas_DF['positiveIncrease'].apply(lambda x:x / 5000) \n",
    "\n",
    "    columns = ['death', 'hospitalizedCurrently', 'positiveCasesViral', 'positiveIncrease', 'totalTestsViral']\n",
    "    \n",
    "    values = [florida_DF[\"death\"].iloc[0]]\n",
    "\n",
    "    plt.figure()\n",
    "    plt.title(\"Title\")\n",
    "    plt.bar(columns, values, width=0.5)\n",
    "    plt.show()\n",
    "\n",
    "    plt.figure()\n",
    "    plt.title(\"Title\")\n",
    "    plt.hist(texas_DF.deathIncrease, bins=bin_size)\n",
    "    plt.show()\n",
    "\n",
    "    plt.figure()\n",
    "    plt.title(\"Title\")\n",
    "    plt.plot(florida_DF, texas_transformed_DF)\n",
    "    plt.show()\n",
    "\n",
    "def transform_data(df, size):\n",
    "    #Transforms data to mathc population size\n",
    "    df['death'] = df['death'].transform(lambda x: round(x * size, 0))\n",
    "    df['deathIncrease'] = df['deathIncrease'].transform(lambda x: round(x * size, 0))\n",
    "    df['hospitalizedCurrently'] = df['hospitalizedCurrently'].transform(lambda x: round(x * size, 0))\n",
    "    df['positiveCasesViral'] = df['positiveCasesViral'].transform(lambda x: round(x * size, 0))\n",
    "    df['positiveIncrease'] = df['positiveIncrease'].transform(lambda x: round(x * size, 0))\n",
    "    return df\n",
    "\n",
    "if __name__ == '__main__':\n",
    "    florida_Pop = 2148000\n",
    "    texas_Pop = 2900000\n",
    "    texas_Data = pd.read_csv((\"texas-history.csv\"),\n",
    "                        usecols=['date', 'state', 'death', 'deathIncrease', 'hospitalizedCurrently', 'positiveCasesViral', 'positiveIncrease'])\n",
    "    florida_Data = pd.read_csv((\"florida-history.csv\"),\n",
    "                        usecols=['date', 'state', 'death', 'deathIncrease', 'hospitalizedCurrently', 'positiveCasesViral', 'positiveIncrease'])\n",
    "    texas_DF = pd.DataFrame(texas_Data, columns =['date', 'state', 'death', 'deathIncrease', 'hospitalizedCurrently', 'positiveCasesViral', 'positiveIncrease'])\n",
    "    florida_DF = pd.DataFrame(florida_Data, columns =['date', 'state', 'death', 'deathIncrease', 'hospitalizedCurrently', 'positiveCasesViral', 'positiveIncrease'])\n",
    "    texas_DF = texas_DF.drop(range(206, 370))\n",
    "    florida_DF = florida_DF.drop(range(341, 404))\n",
    "    texas_DF = texas_DF.dropna()\n",
    "    florida_DF = florida_DF.dropna()\n",
    "    size = florida_Pop / texas_Pop\n",
    "    texas_transformed_DF = transform_data(texas_DF, size)\n",
    "    print(florida_DF)\n",
    "    print(texas_DF)\n",
    "    plot_Data(texas_DF, florida_DF, texas_transformed_DF)\n",
    "    #correlation_Analysis(texas_DF, florida_DF, texas_transformed_DF)\n",
    "    #statistical_testing(texas_DF, florida_DF, texas_transformed_DF)\n"
   ]
  },
  {
   "cell_type": "code",
   "execution_count": null,
   "id": "8e50978b",
   "metadata": {},
   "outputs": [],
   "source": []
  }
 ],
 "metadata": {
  "kernelspec": {
   "display_name": "Python 3 (ipykernel)",
   "language": "python",
   "name": "python3"
  },
  "language_info": {
   "codemirror_mode": {
    "name": "ipython",
    "version": 3
   },
   "file_extension": ".py",
   "mimetype": "text/x-python",
   "name": "python",
   "nbconvert_exporter": "python",
   "pygments_lexer": "ipython3",
   "version": "3.7.3"
  }
 },
 "nbformat": 4,
 "nbformat_minor": 5
}
