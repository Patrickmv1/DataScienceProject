{
 "cells": [
  {
   "cell_type": "code",
   "execution_count": 9,
   "id": "27c983de",
   "metadata": {},
   "outputs": [
    {
     "name": "stdout",
     "output_type": "stream",
     "text": [
      "         date state    death  deathIncrease  positiveCasesViral\n",
      "0  2021-03-07    TX  44451.0             84           2320857.0\n",
      "1  2021-03-06    TX  44367.0            233           2318522.0\n",
      "2  2021-03-05    TX  44134.0            256           2314187.0\n",
      "3  2021-03-04    TX  43878.0            315           2309124.0\n",
      "4  2021-03-03    TX  43563.0            297           2304081.0\n",
      "         date state    death  deathIncrease  positiveCasesViral\n",
      "0  2021-03-07    TX  32924.0           62.0           1719035.0\n",
      "1  2021-03-06    TX  32862.0          173.0           1717305.0\n",
      "2  2021-03-05    TX  32690.0          190.0           1714094.0\n",
      "3  2021-03-04    TX  32500.0          233.0           1710344.0\n",
      "4  2021-03-03    TX  32267.0          220.0           1706609.0\n",
      "         date state    death  deathIncrease  positiveCasesViral\n",
      "0  2021-03-07    FL  32266.0             66           1548837.0\n",
      "1  2021-03-06    FL  32200.0            107           1545643.0\n",
      "2  2021-03-05    FL  32093.0            138           1542400.0\n",
      "3  2021-03-04    FL  31955.0            126           1538139.0\n",
      "4  2021-03-03    FL  31829.0            133           1534186.0\n"
     ]
    }
   ],
   "source": [
    "import os\n",
    "import numpy as np\n",
    "import pandas as pd\n",
    "import matplotlib.pyplot as plt\n",
    "import math\n",
    "\n",
    "#def statistical_testing(texas_DF, florida_DF, texas_transformed_DF):\n",
    "\n",
    "\n",
    "def correlation_Analysis(texas_DF, florida_DF, texas_transformed_DF):\n",
    "    #florida_DF.corr(method ='pearson')\n",
    "    print(\"\\nCorrelation Analysis Between Florda Data and Transformed Texas Data Set:\")\n",
    "\n",
    "    print(\"\\nPearson Correlation\")\n",
    "    print(florida_DF.corrwith(texas_transformed_DF,axis=0,method ='pearson',drop=True).to_string())\n",
    "\n",
    "    print(\"\\nKendall  Correlation\")\n",
    "    print(florida_DF.corrwith(texas_transformed_DF,axis=0,method ='kendall',drop=True).to_string())\n",
    "\n",
    "    print(\"\\nSpearman  Correlation\")\n",
    "    print(florida_DF.corrwith(texas_transformed_DF,axis=0,method ='spearman',drop=True).to_string())\n",
    "\n",
    "    print(\"\\n\\n\")\n",
    "\n",
    "def plot_Data(texas_DF, florida_DF, texas_transformed_DF):\n",
    "    plt.figure()\n",
    "    plt.scatter(florida_DF, texas_transformed_DF)\n",
    "    plt.show()\n",
    "\n",
    "def transform_data(df, size):\n",
    "    #Transforms data to mathc population size\n",
    "    df['death'] = df['death'].transform(lambda x: round(x * size, 0))\n",
    "    df['deathIncrease'] = df['deathIncrease'].transform(lambda x: round(x * size, 0))\n",
    "    df['positiveCasesViral'] = df['positiveCasesViral'].transform(lambda x: round(x * size, 0))\n",
    "    return df\n",
    "\n",
    "if __name__ == '__main__':\n",
    "    florida_Pop = 2148000\n",
    "    texas_Pop = 2900000\n",
    "    texas_Data = pd.read_csv((\"texas-history.csv\"),\n",
    "                        usecols=['date', 'state', 'death', 'deathIncrease', 'positiveCasesViral'])\n",
    "    florida_Data = pd.read_csv((\"florida-history.csv\"),\n",
    "                        usecols=['date', 'state', 'death', 'deathIncrease', 'positiveCasesViral'])\n",
    "    texas_DF = pd.DataFrame(texas_Data, columns =['date', 'state', 'death', 'deathIncrease', 'positiveCasesViral'])\n",
    "    florida_DF = pd.DataFrame(florida_Data, columns =['date', 'state', 'death', 'deathIncrease', 'positiveCasesViral'])\n",
    "    print(texas_DF.head())\n",
    "    size = florida_Pop / texas_Pop\n",
    "    texas_transformed_DF = transform_data(texas_DF, size)\n",
    "    plot_Data(texas_DF, florida_DF, texas_transformed_DF)\n",
    "    #correlation_Analysis(texas_DF, florida_DF, texas_transformed_DF)\n",
    "    #statistical_testing(texas_DF, florida_DF, texas_transformed_DF)\n",
    "    print(texas_transformed_DF.head())\n",
    "    print(florida_DF.head())"
   ]
  },
  {
   "cell_type": "code",
   "execution_count": null,
   "id": "8e50978b",
   "metadata": {},
   "outputs": [],
   "source": []
  }
 ],
 "metadata": {
  "kernelspec": {
   "display_name": "Python 3",
   "language": "python",
   "name": "python3"
  },
  "language_info": {
   "codemirror_mode": {
    "name": "ipython",
    "version": 3
   },
   "file_extension": ".py",
   "mimetype": "text/x-python",
   "name": "python",
   "nbconvert_exporter": "python",
   "pygments_lexer": "ipython3",
   "version": "3.8.8"
  }
 },
 "nbformat": 4,
 "nbformat_minor": 5
}
