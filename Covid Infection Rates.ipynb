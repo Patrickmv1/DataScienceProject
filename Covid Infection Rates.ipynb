{
 "cells": [
  {
   "cell_type": "code",
   "execution_count": 4,
   "id": "27c983de",
   "metadata": {},
   "outputs": [
    {
     "name": "stdout",
     "output_type": "stream",
     "text": [
      "         date state    death  deathIncrease  positiveCasesViral\n",
      "0  2021-03-07    TX  44451.0             84           2320857.0\n",
      "1  2021-03-06    TX  44367.0            233           2318522.0\n",
      "2  2021-03-05    TX  44134.0            256           2314187.0\n",
      "3  2021-03-04    TX  43878.0            315           2309124.0\n",
      "4  2021-03-03    TX  43563.0            297           2304081.0\n"
     ]
    }
   ],
   "source": [
    "import os\n",
    "import numpy as np\n",
    "import pandas as pd\n",
    "import matplotlib.pyplot as plt\n",
    "import math\n",
    "\n",
    "if __name__ == '__main__':\n",
    "    tData = pd.read_csv((\"texas-history.csv\"),\n",
    "                        usecols=['date', 'state', 'death', 'deathIncrease', 'positiveCasesViral'])\n",
    "    fData = pd.read_csv((\"florida-history.csv\"),\n",
    "                        usecols=['date', 'state', 'death', 'deathIncrease', 'positiveCasesViral'])\n",
    "    tDF = pd.DataFrame(tData, columns =['date', 'state', 'death', 'deathIncrease', 'positiveCasesViral'])\n",
    "    fDF = pd.DataFrame(fData, columns =['date', 'state', 'death', 'deathIncrease', 'positiveCasesViral'])\n",
    "    \n",
    "    print(tDF.head())"
   ]
  },
  {
   "cell_type": "code",
   "execution_count": null,
   "id": "8e50978b",
   "metadata": {},
   "outputs": [],
   "source": []
  }
 ],
 "metadata": {
  "kernelspec": {
   "display_name": "Python 3",
   "language": "python",
   "name": "python3"
  },
  "language_info": {
   "codemirror_mode": {
    "name": "ipython",
    "version": 3
   },
   "file_extension": ".py",
   "mimetype": "text/x-python",
   "name": "python",
   "nbconvert_exporter": "python",
   "pygments_lexer": "ipython3",
   "version": "3.8.8"
  }
 },
 "nbformat": 4,
 "nbformat_minor": 5
}
